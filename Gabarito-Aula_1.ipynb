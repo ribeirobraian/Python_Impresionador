# Automação de Sistemas e Processos com Python
#O seu trabalho diário, como analista, é enviar um e-mail para a diretoria, assim que começar a trabalhar, com o faturamento e a quantidade de produtos vendidos no dia anterior
#Local onde o sistema disponibiliza as vendas do dia anterior: https://drive.google.com/drive/folders/149xknr9JvrlEnhNWO49zPcw0PW5icxga?usp=sharing

#Referência do pyautogui: https://pyautogui.readthedocs.io/en/latest/quickstart.html

!pip install pyautogui

import pyautogui
import pyperclip
import time

pyautogui.PAUSE = 1
# pyautogui.click -> clicar
# pyautogui.press -> apertar 1 tecla
# pyautogui.hotkey -> conjunto de teclas
# pyautogui.write -> escreve um texto

# Passo 1: Entrar no sistema da empresa (no nosso caso é o link do drive)
pyautogui.hotkey(\"ctrl\", \"t\")
pyperclip.copy(\"https://drive.google.com/drive/folders/149xknr9JvrlEnhNWO49zPcw0PW5icxga?usp=sharing\")
pyautogui.hotkey(\"ctrl\", \"v\")
pyautogui.press(\"enter\")

time.sleep(5)

# Passo 2: Navegar no sistema e encontrar a base de vendas (entrar na pasta exportar)
pyautogui.click(x=1023, y=710, clicks=2)
time.sleep(2)

# Passo 3: Fazer o download da base de vendas
pyautogui.click(x=1100, y=904) # clicar no arquivo
pyautogui.click(x=3288, y=411) # clicar nos 3 pontinhos
pyautogui.click(x=2716, y=1523) # clicar no fazer download
time.sleep(5) # esperar o download acabar

# Vamos agora ler o arquivo baixado para pegar os indicadores

- Faturamento
- Quantidade de Produtos

# Passo 4: Importar a base de vendas pro Python
import pandas as pd

tabela = pd.read_excel(r\"C:\\Users\\joaol\\Downloads\\Vendas - Dez.xlsx\")
print(tabela)

# Passo 5: Calcular os indicadores da empresa
faturamento = tabela[\"Valor Final\"].sum()
print(faturamento)
quantidade = tabela[\"Quantidade\"].sum()
print(quantidade)

# Vamos agora enviar um e-mail pelo gmail"

# Passo 6: Enviar um e-mail para a diretoria com os indicadores de venda
# abrir aba
pyautogui.hotkey(\"ctrl\", \"t\")

# entrar no link do email - https://mail.google.com/mail/u/0/#inbox
pyperclip.copy(\"https://mail.google.com/mail/u/0/#inbox\")
pyautogui.hotkey(\"ctrl\", \"v\")
pyautogui.press(\"enter\")
time.sleep(5)

# clicar no botão escrever
pyautogui.click(x=240, y=415)

# preencher as informações do e-mail
pyautogui.write(\"pythonimpressionador@gmail.com\")
pyautogui.press(\"tab\") # selecionar o email

pyautogui.press(\"tab\") # pular para o campo de assunto
pyperclip.copy(\"Relatório de Vendas\")
pyautogui.hotkey(\"ctrl\", \"v\")

pyautogui.press(\"tab\") # pular para o campo de corpo do email\n",

texto = f\"\"\"
Prezados,

Segue relatório de vendas.
Faturamento: R${faturamento:,.2f}
Quantidade de produtos vendidos: {quantidade:,}

Qualquer dúvida estou à disposição.
Att.,
    Lira do Python
    "\"\"\"
    
# formatação dos números (moeda, dinheiro)
   
pyperclip.copy(texto)
pyautogui.hotkey(\"ctrl\", \"v\")
    
# enviar o e-mail
pyautogui.hotkey(\"ctrl\", \"enter\")

# Use esse código para descobrir qual a posição de um item que queira clicar\n",

- Lembre-se: a posição na sua tela é diferente da posição na minha tela
time.sleep(5)
pyautogui.position()
